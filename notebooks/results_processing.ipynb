{
 "metadata": {
  "language_info": {
   "codemirror_mode": {
    "name": "ipython",
    "version": 3
   },
   "file_extension": ".py",
   "mimetype": "text/x-python",
   "name": "python",
   "nbconvert_exporter": "python",
   "pygments_lexer": "ipython3",
   "version": "3.8.2"
  },
  "orig_nbformat": 2,
  "kernelspec": {
   "name": "python382jvsc74a57bd0f0545359fd8874728fa15534fbfd9d83780463b5d27770e3043345b26761f8c1",
   "display_name": "Python 3.8.2 64-bit ('puma_venv': venv)"
  }
 },
 "nbformat": 4,
 "nbformat_minor": 2,
 "cells": [
  {
   "cell_type": "code",
   "execution_count": 3,
   "metadata": {},
   "outputs": [
    {
     "output_type": "execute_result",
     "data": {
      "text/plain": [
       "True"
      ]
     },
     "metadata": {},
     "execution_count": 3
    }
   ],
   "source": [
    "import sys\n",
    "sys.executable.split('/')[-3] == 'puma_venv'"
   ]
  },
  {
   "cell_type": "code",
   "execution_count": 4,
   "metadata": {},
   "outputs": [],
   "source": [
    "import os\n",
    "\n",
    "import pandas as pd\n",
    "\n",
    "# Managing Warnings \n",
    "import warnings\n",
    "warnings.filterwarnings('ignore')"
   ]
  },
  {
   "source": [
    "## Load results.csv"
   ],
   "cell_type": "markdown",
   "metadata": {}
  },
  {
   "cell_type": "code",
   "execution_count": 14,
   "metadata": {},
   "outputs": [],
   "source": [
    "out_dir = '../out'\n",
    "results_file_class = 'results_class.csv'\n",
    "results_file_n_children = 'results_n_children.csv'\n",
    "results_file_bl_class = 'results_bl_class.csv'\n",
    "results_file_bl_n_children = 'results_bl_n_children.csv'"
   ]
  },
  {
   "cell_type": "code",
   "execution_count": 15,
   "metadata": {},
   "outputs": [],
   "source": [
    "results_class = pd.read_csv(os.path.join(out_dir, results_file_class), index_col=0)\n",
    "results_n_children = pd.read_csv(os.path.join(out_dir, results_file_n_children), index_col=0)\n",
    "\n",
    "results_bl_class = pd.read_csv(os.path.join(out_dir, results_file_bl_class), index_col=0)\n",
    "results_bl_n_children = pd.read_csv(os.path.join(out_dir, results_file_bl_n_children), index_col=0)"
   ]
  },
  {
   "source": [
    "## Find best and worse results"
   ],
   "cell_type": "markdown",
   "metadata": {}
  },
  {
   "cell_type": "code",
   "execution_count": 25,
   "metadata": {},
   "outputs": [
    {
     "output_type": "execute_result",
     "data": {
      "text/plain": [
       "      network  n_bins          estimator  accuracy  precision  recall     f1  \\\n",
       "7   network_4  3_bins     MaxLLEstimator     0.431       0.38   0.372  0.352   \n",
       "6   network_4  3_bins  BayesianEstimator     0.431       0.38   0.372  0.352   \n",
       "5   network_3  3_bins     MaxLLEstimator     0.431       0.38   0.372  0.352   \n",
       "4   network_3  3_bins  BayesianEstimator     0.431       0.38   0.372  0.352   \n",
       "3   network_2  3_bins     MaxLLEstimator     0.431       0.38   0.372  0.352   \n",
       "2   network_2  3_bins  BayesianEstimator     0.431       0.38   0.372  0.352   \n",
       "28     hcs_pc  3_bins  BayesianEstimator     0.410       0.27   0.356  0.307   \n",
       "17         pc  3_bins     MaxLLEstimator     0.410       0.27   0.356  0.307   \n",
       "29     hcs_pc  3_bins     MaxLLEstimator     0.410       0.27   0.356  0.307   \n",
       "16         pc  3_bins  BayesianEstimator     0.410       0.27   0.356  0.307   \n",
       "\n",
       "      time  \n",
       "7   11.186  \n",
       "6   11.140  \n",
       "5   14.659  \n",
       "4   15.008  \n",
       "3   33.628  \n",
       "2   34.065  \n",
       "28   8.476  \n",
       "17   8.388  \n",
       "29   8.973  \n",
       "16   8.576  "
      ],
      "text/html": "<div>\n<style scoped>\n    .dataframe tbody tr th:only-of-type {\n        vertical-align: middle;\n    }\n\n    .dataframe tbody tr th {\n        vertical-align: top;\n    }\n\n    .dataframe thead th {\n        text-align: right;\n    }\n</style>\n<table border=\"1\" class=\"dataframe\">\n  <thead>\n    <tr style=\"text-align: right;\">\n      <th></th>\n      <th>network</th>\n      <th>n_bins</th>\n      <th>estimator</th>\n      <th>accuracy</th>\n      <th>precision</th>\n      <th>recall</th>\n      <th>f1</th>\n      <th>time</th>\n    </tr>\n  </thead>\n  <tbody>\n    <tr>\n      <th>7</th>\n      <td>network_4</td>\n      <td>3_bins</td>\n      <td>MaxLLEstimator</td>\n      <td>0.431</td>\n      <td>0.38</td>\n      <td>0.372</td>\n      <td>0.352</td>\n      <td>11.186</td>\n    </tr>\n    <tr>\n      <th>6</th>\n      <td>network_4</td>\n      <td>3_bins</td>\n      <td>BayesianEstimator</td>\n      <td>0.431</td>\n      <td>0.38</td>\n      <td>0.372</td>\n      <td>0.352</td>\n      <td>11.140</td>\n    </tr>\n    <tr>\n      <th>5</th>\n      <td>network_3</td>\n      <td>3_bins</td>\n      <td>MaxLLEstimator</td>\n      <td>0.431</td>\n      <td>0.38</td>\n      <td>0.372</td>\n      <td>0.352</td>\n      <td>14.659</td>\n    </tr>\n    <tr>\n      <th>4</th>\n      <td>network_3</td>\n      <td>3_bins</td>\n      <td>BayesianEstimator</td>\n      <td>0.431</td>\n      <td>0.38</td>\n      <td>0.372</td>\n      <td>0.352</td>\n      <td>15.008</td>\n    </tr>\n    <tr>\n      <th>3</th>\n      <td>network_2</td>\n      <td>3_bins</td>\n      <td>MaxLLEstimator</td>\n      <td>0.431</td>\n      <td>0.38</td>\n      <td>0.372</td>\n      <td>0.352</td>\n      <td>33.628</td>\n    </tr>\n    <tr>\n      <th>2</th>\n      <td>network_2</td>\n      <td>3_bins</td>\n      <td>BayesianEstimator</td>\n      <td>0.431</td>\n      <td>0.38</td>\n      <td>0.372</td>\n      <td>0.352</td>\n      <td>34.065</td>\n    </tr>\n    <tr>\n      <th>28</th>\n      <td>hcs_pc</td>\n      <td>3_bins</td>\n      <td>BayesianEstimator</td>\n      <td>0.410</td>\n      <td>0.27</td>\n      <td>0.356</td>\n      <td>0.307</td>\n      <td>8.476</td>\n    </tr>\n    <tr>\n      <th>17</th>\n      <td>pc</td>\n      <td>3_bins</td>\n      <td>MaxLLEstimator</td>\n      <td>0.410</td>\n      <td>0.27</td>\n      <td>0.356</td>\n      <td>0.307</td>\n      <td>8.388</td>\n    </tr>\n    <tr>\n      <th>29</th>\n      <td>hcs_pc</td>\n      <td>3_bins</td>\n      <td>MaxLLEstimator</td>\n      <td>0.410</td>\n      <td>0.27</td>\n      <td>0.356</td>\n      <td>0.307</td>\n      <td>8.973</td>\n    </tr>\n    <tr>\n      <th>16</th>\n      <td>pc</td>\n      <td>3_bins</td>\n      <td>BayesianEstimator</td>\n      <td>0.410</td>\n      <td>0.27</td>\n      <td>0.356</td>\n      <td>0.307</td>\n      <td>8.576</td>\n    </tr>\n  </tbody>\n</table>\n</div>"
     },
     "metadata": {},
     "execution_count": 25
    }
   ],
   "source": [
    "results_class.sort_values(['f1'], ascending=False).tail(10)"
   ]
  },
  {
   "cell_type": "code",
   "execution_count": 33,
   "metadata": {},
   "outputs": [
    {
     "output_type": "execute_result",
     "data": {
      "text/plain": [
       "      network  n_bins          estimator  accuracy  precision  recall     f1  \\\n",
       "88     hcs_pc  9_bins  BayesianEstimator     0.464      0.198   0.225  0.210   \n",
       "89     hcs_pc  9_bins     MaxLLEstimator     0.461      0.197   0.223  0.209   \n",
       "65  network_3  9_bins     MaxLLEstimator     0.420      0.212   0.203  0.204   \n",
       "63  network_2  9_bins     MaxLLEstimator     0.420      0.212   0.203  0.204   \n",
       "71    hcs_bic  9_bins     MaxLLEstimator     0.451      0.191   0.211  0.197   \n",
       "70    hcs_bic  9_bins  BayesianEstimator     0.451      0.191   0.211  0.197   \n",
       "64  network_3  9_bins  BayesianEstimator     0.427      0.189   0.180  0.181   \n",
       "62  network_2  9_bins  BayesianEstimator     0.427      0.189   0.180  0.181   \n",
       "73   hcs_bdeu  9_bins     MaxLLEstimator     0.407      0.180   0.175  0.152   \n",
       "72   hcs_bdeu  9_bins  BayesianEstimator     0.407      0.180   0.175  0.152   \n",
       "\n",
       "      time  \n",
       "88  18.670  \n",
       "89  18.595  \n",
       "65  57.315  \n",
       "63  85.153  \n",
       "71   6.095  \n",
       "70   6.059  \n",
       "64  59.079  \n",
       "62  88.579  \n",
       "73   7.232  \n",
       "72   7.228  "
      ],
      "text/html": "<div>\n<style scoped>\n    .dataframe tbody tr th:only-of-type {\n        vertical-align: middle;\n    }\n\n    .dataframe tbody tr th {\n        vertical-align: top;\n    }\n\n    .dataframe thead th {\n        text-align: right;\n    }\n</style>\n<table border=\"1\" class=\"dataframe\">\n  <thead>\n    <tr style=\"text-align: right;\">\n      <th></th>\n      <th>network</th>\n      <th>n_bins</th>\n      <th>estimator</th>\n      <th>accuracy</th>\n      <th>precision</th>\n      <th>recall</th>\n      <th>f1</th>\n      <th>time</th>\n    </tr>\n  </thead>\n  <tbody>\n    <tr>\n      <th>88</th>\n      <td>hcs_pc</td>\n      <td>9_bins</td>\n      <td>BayesianEstimator</td>\n      <td>0.464</td>\n      <td>0.198</td>\n      <td>0.225</td>\n      <td>0.210</td>\n      <td>18.670</td>\n    </tr>\n    <tr>\n      <th>89</th>\n      <td>hcs_pc</td>\n      <td>9_bins</td>\n      <td>MaxLLEstimator</td>\n      <td>0.461</td>\n      <td>0.197</td>\n      <td>0.223</td>\n      <td>0.209</td>\n      <td>18.595</td>\n    </tr>\n    <tr>\n      <th>65</th>\n      <td>network_3</td>\n      <td>9_bins</td>\n      <td>MaxLLEstimator</td>\n      <td>0.420</td>\n      <td>0.212</td>\n      <td>0.203</td>\n      <td>0.204</td>\n      <td>57.315</td>\n    </tr>\n    <tr>\n      <th>63</th>\n      <td>network_2</td>\n      <td>9_bins</td>\n      <td>MaxLLEstimator</td>\n      <td>0.420</td>\n      <td>0.212</td>\n      <td>0.203</td>\n      <td>0.204</td>\n      <td>85.153</td>\n    </tr>\n    <tr>\n      <th>71</th>\n      <td>hcs_bic</td>\n      <td>9_bins</td>\n      <td>MaxLLEstimator</td>\n      <td>0.451</td>\n      <td>0.191</td>\n      <td>0.211</td>\n      <td>0.197</td>\n      <td>6.095</td>\n    </tr>\n    <tr>\n      <th>70</th>\n      <td>hcs_bic</td>\n      <td>9_bins</td>\n      <td>BayesianEstimator</td>\n      <td>0.451</td>\n      <td>0.191</td>\n      <td>0.211</td>\n      <td>0.197</td>\n      <td>6.059</td>\n    </tr>\n    <tr>\n      <th>64</th>\n      <td>network_3</td>\n      <td>9_bins</td>\n      <td>BayesianEstimator</td>\n      <td>0.427</td>\n      <td>0.189</td>\n      <td>0.180</td>\n      <td>0.181</td>\n      <td>59.079</td>\n    </tr>\n    <tr>\n      <th>62</th>\n      <td>network_2</td>\n      <td>9_bins</td>\n      <td>BayesianEstimator</td>\n      <td>0.427</td>\n      <td>0.189</td>\n      <td>0.180</td>\n      <td>0.181</td>\n      <td>88.579</td>\n    </tr>\n    <tr>\n      <th>73</th>\n      <td>hcs_bdeu</td>\n      <td>9_bins</td>\n      <td>MaxLLEstimator</td>\n      <td>0.407</td>\n      <td>0.180</td>\n      <td>0.175</td>\n      <td>0.152</td>\n      <td>7.232</td>\n    </tr>\n    <tr>\n      <th>72</th>\n      <td>hcs_bdeu</td>\n      <td>9_bins</td>\n      <td>BayesianEstimator</td>\n      <td>0.407</td>\n      <td>0.180</td>\n      <td>0.175</td>\n      <td>0.152</td>\n      <td>7.228</td>\n    </tr>\n  </tbody>\n</table>\n</div>"
     },
     "metadata": {},
     "execution_count": 33
    }
   ],
   "source": [
    "results_n_children.sort_values(['f1'], ascending=False).tail(10)"
   ]
  },
  {
   "cell_type": "code",
   "execution_count": 7,
   "metadata": {},
   "outputs": [
    {
     "output_type": "execute_result",
     "data": {
      "text/plain": [
       "            clf  n_bins  accuracy  precision  recall     f1   time\n",
       "4    GaussianNB  9_bins     0.447      0.465   0.461  0.447  0.009\n",
       "2    GaussianNB  6_bins     0.441      0.458   0.456  0.442  0.008\n",
       "3  DecisionTree  6_bins     0.458      0.436   0.432  0.433  0.012\n",
       "0    GaussianNB  3_bins     0.424      0.438   0.445  0.427  0.014\n",
       "5  DecisionTree  9_bins     0.447      0.414   0.413  0.412  0.011\n",
       "1  DecisionTree  3_bins     0.410      0.388   0.389  0.388  0.016"
      ],
      "text/html": "<div>\n<style scoped>\n    .dataframe tbody tr th:only-of-type {\n        vertical-align: middle;\n    }\n\n    .dataframe tbody tr th {\n        vertical-align: top;\n    }\n\n    .dataframe thead th {\n        text-align: right;\n    }\n</style>\n<table border=\"1\" class=\"dataframe\">\n  <thead>\n    <tr style=\"text-align: right;\">\n      <th></th>\n      <th>clf</th>\n      <th>n_bins</th>\n      <th>accuracy</th>\n      <th>precision</th>\n      <th>recall</th>\n      <th>f1</th>\n      <th>time</th>\n    </tr>\n  </thead>\n  <tbody>\n    <tr>\n      <th>4</th>\n      <td>GaussianNB</td>\n      <td>9_bins</td>\n      <td>0.447</td>\n      <td>0.465</td>\n      <td>0.461</td>\n      <td>0.447</td>\n      <td>0.009</td>\n    </tr>\n    <tr>\n      <th>2</th>\n      <td>GaussianNB</td>\n      <td>6_bins</td>\n      <td>0.441</td>\n      <td>0.458</td>\n      <td>0.456</td>\n      <td>0.442</td>\n      <td>0.008</td>\n    </tr>\n    <tr>\n      <th>3</th>\n      <td>DecisionTree</td>\n      <td>6_bins</td>\n      <td>0.458</td>\n      <td>0.436</td>\n      <td>0.432</td>\n      <td>0.433</td>\n      <td>0.012</td>\n    </tr>\n    <tr>\n      <th>0</th>\n      <td>GaussianNB</td>\n      <td>3_bins</td>\n      <td>0.424</td>\n      <td>0.438</td>\n      <td>0.445</td>\n      <td>0.427</td>\n      <td>0.014</td>\n    </tr>\n    <tr>\n      <th>5</th>\n      <td>DecisionTree</td>\n      <td>9_bins</td>\n      <td>0.447</td>\n      <td>0.414</td>\n      <td>0.413</td>\n      <td>0.412</td>\n      <td>0.011</td>\n    </tr>\n    <tr>\n      <th>1</th>\n      <td>DecisionTree</td>\n      <td>3_bins</td>\n      <td>0.410</td>\n      <td>0.388</td>\n      <td>0.389</td>\n      <td>0.388</td>\n      <td>0.016</td>\n    </tr>\n  </tbody>\n</table>\n</div>"
     },
     "metadata": {},
     "execution_count": 7
    }
   ],
   "source": [
    "results_bl_class.sort_values(['f1'], ascending=False).head(10)"
   ]
  },
  {
   "cell_type": "code",
   "execution_count": 8,
   "metadata": {},
   "outputs": [
    {
     "output_type": "execute_result",
     "data": {
      "text/plain": [
       "            clf  n_bins  accuracy  precision  recall     f1   time\n",
       "0    GaussianNB  3_bins     0.817      0.377   0.374  0.375  0.010\n",
       "1  DecisionTree  3_bins     0.803      0.369   0.361  0.365  0.012\n",
       "3  DecisionTree  6_bins     0.525      0.308   0.299  0.298  0.011\n",
       "2    GaussianNB  6_bins     0.580      0.361   0.328  0.286  0.009\n",
       "5  DecisionTree  9_bins     0.386      0.236   0.254  0.241  0.011\n",
       "4    GaussianNB  9_bins     0.339      0.181   0.255  0.144  0.011"
      ],
      "text/html": "<div>\n<style scoped>\n    .dataframe tbody tr th:only-of-type {\n        vertical-align: middle;\n    }\n\n    .dataframe tbody tr th {\n        vertical-align: top;\n    }\n\n    .dataframe thead th {\n        text-align: right;\n    }\n</style>\n<table border=\"1\" class=\"dataframe\">\n  <thead>\n    <tr style=\"text-align: right;\">\n      <th></th>\n      <th>clf</th>\n      <th>n_bins</th>\n      <th>accuracy</th>\n      <th>precision</th>\n      <th>recall</th>\n      <th>f1</th>\n      <th>time</th>\n    </tr>\n  </thead>\n  <tbody>\n    <tr>\n      <th>0</th>\n      <td>GaussianNB</td>\n      <td>3_bins</td>\n      <td>0.817</td>\n      <td>0.377</td>\n      <td>0.374</td>\n      <td>0.375</td>\n      <td>0.010</td>\n    </tr>\n    <tr>\n      <th>1</th>\n      <td>DecisionTree</td>\n      <td>3_bins</td>\n      <td>0.803</td>\n      <td>0.369</td>\n      <td>0.361</td>\n      <td>0.365</td>\n      <td>0.012</td>\n    </tr>\n    <tr>\n      <th>3</th>\n      <td>DecisionTree</td>\n      <td>6_bins</td>\n      <td>0.525</td>\n      <td>0.308</td>\n      <td>0.299</td>\n      <td>0.298</td>\n      <td>0.011</td>\n    </tr>\n    <tr>\n      <th>2</th>\n      <td>GaussianNB</td>\n      <td>6_bins</td>\n      <td>0.580</td>\n      <td>0.361</td>\n      <td>0.328</td>\n      <td>0.286</td>\n      <td>0.009</td>\n    </tr>\n    <tr>\n      <th>5</th>\n      <td>DecisionTree</td>\n      <td>9_bins</td>\n      <td>0.386</td>\n      <td>0.236</td>\n      <td>0.254</td>\n      <td>0.241</td>\n      <td>0.011</td>\n    </tr>\n    <tr>\n      <th>4</th>\n      <td>GaussianNB</td>\n      <td>9_bins</td>\n      <td>0.339</td>\n      <td>0.181</td>\n      <td>0.255</td>\n      <td>0.144</td>\n      <td>0.011</td>\n    </tr>\n  </tbody>\n</table>\n</div>"
     },
     "metadata": {},
     "execution_count": 8
    }
   ],
   "source": [
    "results_bl_n_children.sort_values(['f1'], ascending=False).head(10)"
   ]
  },
  {
   "source": [
    "## Results to tex tabular"
   ],
   "cell_type": "markdown",
   "metadata": {}
  },
  {
   "cell_type": "code",
   "execution_count": 13,
   "metadata": {},
   "outputs": [
    {
     "output_type": "stream",
     "name": "stdout",
     "text": [
      "\\begin{tabular}{llllrrrrr}\n\\toprule\n{} &          network &  n\\_bins &          estimator &  accuracy &  precision &  recall &     f1 &     time \\\\\n\\midrule\n0  &        network\\_1 &  3\\_bins &  BayesianEstimator &     0.451 &      0.422 &   0.407 &  0.392 &  122.984 \\\\\n1  &        network\\_1 &  3\\_bins &     MaxLLEstimator &     0.451 &      0.422 &   0.407 &  0.392 &  120.736 \\\\\n2  &        network\\_2 &  3\\_bins &  BayesianEstimator &     0.434 &      0.391 &   0.368 &  0.326 &   38.622 \\\\\n3  &        network\\_2 &  3\\_bins &     MaxLLEstimator &     0.434 &      0.391 &   0.368 &  0.326 &   37.337 \\\\\n4  &        network\\_3 &  3\\_bins &  BayesianEstimator &     0.434 &      0.391 &   0.368 &  0.326 &   17.282 \\\\\n5  &        network\\_3 &  3\\_bins &     MaxLLEstimator &     0.434 &      0.391 &   0.368 &  0.326 &   16.406 \\\\\n6  &        network\\_4 &  3\\_bins &  BayesianEstimator &     0.434 &      0.391 &   0.368 &  0.326 &   13.418 \\\\\n7  &        network\\_4 &  3\\_bins &     MaxLLEstimator &     0.434 &      0.391 &   0.368 &  0.326 &   12.637 \\\\\n8  &      naive\\_bayes &  3\\_bins &  BayesianEstimator &     0.478 &      0.473 &   0.476 &  0.469 &    4.298 \\\\\n9  &      naive\\_bayes &  3\\_bins &     MaxLLEstimator &     0.478 &      0.473 &   0.476 &  0.469 &    4.165 \\\\\n10 &          hcs\\_bic &  3\\_bins &  BayesianEstimator &     0.458 &      0.371 &   0.392 &  0.350 &    4.312 \\\\\n11 &          hcs\\_bic &  3\\_bins &     MaxLLEstimator &     0.458 &      0.371 &   0.392 &  0.350 &    4.602 \\\\\n12 &         hcs\\_bdeu &  3\\_bins &  BayesianEstimator &     0.458 &      0.371 &   0.392 &  0.350 &    5.738 \\\\\n13 &         hcs\\_bdeu &  3\\_bins &     MaxLLEstimator &     0.458 &      0.371 &   0.392 &  0.350 &    6.106 \\\\\n14 &           hcs\\_k2 &  3\\_bins &  BayesianEstimator &     0.468 &      0.464 &   0.433 &  0.435 &    9.420 \\\\\n15 &           hcs\\_k2 &  3\\_bins &     MaxLLEstimator &     0.468 &      0.464 &   0.433 &  0.435 &    9.393 \\\\\n16 &               pc &  3\\_bins &  BayesianEstimator &     0.444 &      0.282 &   0.433 &  0.341 &    7.177 \\\\\n17 &               pc &  3\\_bins &     MaxLLEstimator &     0.444 &      0.282 &   0.433 &  0.341 &    6.538 \\\\\n18 &    hcs\\_network\\_1 &  3\\_bins &  BayesianEstimator &     0.458 &      0.442 &   0.447 &  0.444 &   10.918 \\\\\n19 &    hcs\\_network\\_1 &  3\\_bins &     MaxLLEstimator &     0.458 &      0.442 &   0.447 &  0.444 &   11.037 \\\\\n20 &    hcs\\_network\\_2 &  3\\_bins &  BayesianEstimator &     0.468 &      0.464 &   0.433 &  0.435 &   11.410 \\\\\n21 &    hcs\\_network\\_2 &  3\\_bins &     MaxLLEstimator &     0.468 &      0.464 &   0.433 &  0.435 &   12.441 \\\\\n22 &    hcs\\_network\\_3 &  3\\_bins &  BayesianEstimator &     0.468 &      0.464 &   0.433 &  0.435 &   10.980 \\\\\n23 &    hcs\\_network\\_3 &  3\\_bins &     MaxLLEstimator &     0.468 &      0.464 &   0.433 &  0.435 &   10.827 \\\\\n24 &    hcs\\_network\\_4 &  3\\_bins &  BayesianEstimator &     0.468 &      0.464 &   0.433 &  0.435 &    9.714 \\\\\n25 &    hcs\\_network\\_4 &  3\\_bins &     MaxLLEstimator &     0.468 &      0.464 &   0.433 &  0.435 &    9.148 \\\\\n26 &  hcs\\_naive\\_bayes &  3\\_bins &  BayesianEstimator &     0.468 &      0.464 &   0.433 &  0.435 &   11.626 \\\\\n27 &  hcs\\_naive\\_bayes &  3\\_bins &     MaxLLEstimator &     0.468 &      0.464 &   0.433 &  0.435 &   11.549 \\\\\n28 &           hcs\\_pc &  3\\_bins &  BayesianEstimator &     0.444 &      0.290 &   0.376 &  0.327 &    3.646 \\\\\n29 &           hcs\\_pc &  3\\_bins &     MaxLLEstimator &     0.444 &      0.290 &   0.376 &  0.327 &    3.713 \\\\\n30 &        network\\_1 &  6\\_bins &  BayesianEstimator &     0.451 &      0.422 &   0.407 &  0.392 &  129.661 \\\\\n31 &        network\\_1 &  6\\_bins &     MaxLLEstimator &     0.451 &      0.422 &   0.407 &  0.392 &  117.801 \\\\\n32 &        network\\_2 &  6\\_bins &  BayesianEstimator &     0.434 &      0.391 &   0.368 &  0.326 &   38.839 \\\\\n33 &        network\\_2 &  6\\_bins &     MaxLLEstimator &     0.434 &      0.391 &   0.368 &  0.326 &   37.496 \\\\\n34 &        network\\_3 &  6\\_bins &  BayesianEstimator &     0.434 &      0.391 &   0.368 &  0.326 &   16.495 \\\\\n35 &        network\\_3 &  6\\_bins &     MaxLLEstimator &     0.434 &      0.391 &   0.368 &  0.326 &   15.935 \\\\\n36 &        network\\_4 &  6\\_bins &  BayesianEstimator &     0.434 &      0.391 &   0.368 &  0.326 &   13.965 \\\\\n37 &        network\\_4 &  6\\_bins &     MaxLLEstimator &     0.434 &      0.391 &   0.368 &  0.326 &   11.626 \\\\\n38 &      naive\\_bayes &  6\\_bins &  BayesianEstimator &     0.478 &      0.473 &   0.476 &  0.469 &    4.177 \\\\\n39 &      naive\\_bayes &  6\\_bins &     MaxLLEstimator &     0.478 &      0.473 &   0.476 &  0.469 &    3.757 \\\\\n40 &          hcs\\_bic &  6\\_bins &  BayesianEstimator &     0.458 &      0.371 &   0.392 &  0.350 &    3.991 \\\\\n41 &          hcs\\_bic &  6\\_bins &     MaxLLEstimator &     0.458 &      0.371 &   0.392 &  0.350 &    3.969 \\\\\n42 &         hcs\\_bdeu &  6\\_bins &  BayesianEstimator &     0.458 &      0.371 &   0.392 &  0.350 &    5.427 \\\\\n43 &         hcs\\_bdeu &  6\\_bins &     MaxLLEstimator &     0.458 &      0.371 &   0.392 &  0.350 &    5.446 \\\\\n44 &           hcs\\_k2 &  6\\_bins &  BayesianEstimator &     0.468 &      0.464 &   0.433 &  0.435 &    8.601 \\\\\n45 &           hcs\\_k2 &  6\\_bins &     MaxLLEstimator &     0.468 &      0.464 &   0.433 &  0.435 &    9.229 \\\\\n46 &               pc &  6\\_bins &  BayesianEstimator &     0.444 &      0.282 &   0.433 &  0.341 &    6.075 \\\\\n47 &               pc &  6\\_bins &     MaxLLEstimator &     0.444 &      0.282 &   0.433 &  0.341 &    5.991 \\\\\n48 &    hcs\\_network\\_1 &  6\\_bins &  BayesianEstimator &     0.458 &      0.442 &   0.447 &  0.444 &   10.702 \\\\\n49 &    hcs\\_network\\_1 &  6\\_bins &     MaxLLEstimator &     0.458 &      0.442 &   0.447 &  0.444 &   10.056 \\\\\n50 &    hcs\\_network\\_2 &  6\\_bins &  BayesianEstimator &     0.468 &      0.464 &   0.433 &  0.435 &   10.804 \\\\\n51 &    hcs\\_network\\_2 &  6\\_bins &     MaxLLEstimator &     0.468 &      0.464 &   0.433 &  0.435 &   10.698 \\\\\n52 &    hcs\\_network\\_3 &  6\\_bins &  BayesianEstimator &     0.468 &      0.464 &   0.433 &  0.435 &    9.654 \\\\\n53 &    hcs\\_network\\_3 &  6\\_bins &     MaxLLEstimator &     0.468 &      0.464 &   0.433 &  0.435 &    9.540 \\\\\n54 &    hcs\\_network\\_4 &  6\\_bins &  BayesianEstimator &     0.468 &      0.464 &   0.433 &  0.435 &    8.468 \\\\\n55 &    hcs\\_network\\_4 &  6\\_bins &     MaxLLEstimator &     0.468 &      0.464 &   0.433 &  0.435 &    8.513 \\\\\n56 &  hcs\\_naive\\_bayes &  6\\_bins &  BayesianEstimator &     0.468 &      0.464 &   0.433 &  0.435 &   10.902 \\\\\n57 &  hcs\\_naive\\_bayes &  6\\_bins &     MaxLLEstimator &     0.468 &      0.464 &   0.433 &  0.435 &   10.828 \\\\\n58 &           hcs\\_pc &  6\\_bins &  BayesianEstimator &     0.444 &      0.290 &   0.376 &  0.327 &    3.426 \\\\\n59 &           hcs\\_pc &  6\\_bins &     MaxLLEstimator &     0.444 &      0.290 &   0.376 &  0.327 &    3.393 \\\\\n60 &        network\\_1 &  9\\_bins &  BayesianEstimator &     0.451 &      0.422 &   0.407 &  0.392 &  116.177 \\\\\n61 &        network\\_1 &  9\\_bins &     MaxLLEstimator &     0.451 &      0.422 &   0.407 &  0.392 &  111.580 \\\\\n62 &        network\\_2 &  9\\_bins &  BayesianEstimator &     0.434 &      0.391 &   0.368 &  0.326 &   37.477 \\\\\n63 &        network\\_2 &  9\\_bins &     MaxLLEstimator &     0.434 &      0.391 &   0.368 &  0.326 &   36.132 \\\\\n64 &        network\\_3 &  9\\_bins &  BayesianEstimator &     0.434 &      0.391 &   0.368 &  0.326 &   15.906 \\\\\n65 &        network\\_3 &  9\\_bins &     MaxLLEstimator &     0.434 &      0.391 &   0.368 &  0.326 &   15.773 \\\\\n66 &        network\\_4 &  9\\_bins &  BayesianEstimator &     0.434 &      0.391 &   0.368 &  0.326 &   12.005 \\\\\n67 &        network\\_4 &  9\\_bins &     MaxLLEstimator &     0.434 &      0.391 &   0.368 &  0.326 &   11.888 \\\\\n68 &      naive\\_bayes &  9\\_bins &  BayesianEstimator &     0.478 &      0.473 &   0.476 &  0.469 &    3.948 \\\\\n69 &      naive\\_bayes &  9\\_bins &     MaxLLEstimator &     0.478 &      0.473 &   0.476 &  0.469 &    4.004 \\\\\n70 &          hcs\\_bic &  9\\_bins &  BayesianEstimator &     0.458 &      0.371 &   0.392 &  0.350 &    4.519 \\\\\n71 &          hcs\\_bic &  9\\_bins &     MaxLLEstimator &     0.458 &      0.371 &   0.392 &  0.350 &    4.230 \\\\\n72 &         hcs\\_bdeu &  9\\_bins &  BayesianEstimator &     0.458 &      0.371 &   0.392 &  0.350 &    5.761 \\\\\n73 &         hcs\\_bdeu &  9\\_bins &     MaxLLEstimator &     0.458 &      0.371 &   0.392 &  0.350 &    5.742 \\\\\n74 &           hcs\\_k2 &  9\\_bins &  BayesianEstimator &     0.468 &      0.464 &   0.433 &  0.435 &    9.044 \\\\\n75 &           hcs\\_k2 &  9\\_bins &     MaxLLEstimator &     0.468 &      0.464 &   0.433 &  0.435 &    8.989 \\\\\n76 &               pc &  9\\_bins &  BayesianEstimator &     0.444 &      0.282 &   0.433 &  0.341 &    6.284 \\\\\n77 &               pc &  9\\_bins &     MaxLLEstimator &     0.444 &      0.282 &   0.433 &  0.341 &    6.268 \\\\\n78 &    hcs\\_network\\_1 &  9\\_bins &  BayesianEstimator &     0.458 &      0.442 &   0.447 &  0.444 &   10.697 \\\\\n79 &    hcs\\_network\\_1 &  9\\_bins &     MaxLLEstimator &     0.458 &      0.442 &   0.447 &  0.444 &   10.635 \\\\\n80 &    hcs\\_network\\_2 &  9\\_bins &  BayesianEstimator &     0.468 &      0.464 &   0.433 &  0.435 &   11.438 \\\\\n81 &    hcs\\_network\\_2 &  9\\_bins &     MaxLLEstimator &     0.468 &      0.464 &   0.433 &  0.435 &   11.347 \\\\\n82 &    hcs\\_network\\_3 &  9\\_bins &  BayesianEstimator &     0.468 &      0.464 &   0.433 &  0.435 &   10.169 \\\\\n83 &    hcs\\_network\\_3 &  9\\_bins &     MaxLLEstimator &     0.468 &      0.464 &   0.433 &  0.435 &   10.147 \\\\\n84 &    hcs\\_network\\_4 &  9\\_bins &  BayesianEstimator &     0.468 &      0.464 &   0.433 &  0.435 &    9.033 \\\\\n85 &    hcs\\_network\\_4 &  9\\_bins &     MaxLLEstimator &     0.468 &      0.464 &   0.433 &  0.435 &    8.979 \\\\\n86 &  hcs\\_naive\\_bayes &  9\\_bins &  BayesianEstimator &     0.468 &      0.464 &   0.433 &  0.435 &   11.408 \\\\\n87 &  hcs\\_naive\\_bayes &  9\\_bins &     MaxLLEstimator &     0.468 &      0.464 &   0.433 &  0.435 &   11.337 \\\\\n88 &           hcs\\_pc &  9\\_bins &  BayesianEstimator &     0.444 &      0.290 &   0.376 &  0.327 &    3.610 \\\\\n89 &           hcs\\_pc &  9\\_bins &     MaxLLEstimator &     0.444 &      0.290 &   0.376 &  0.327 &    3.621 \\\\\n\\bottomrule\n\\end{tabular}\n\n"
     ]
    }
   ],
   "source": [
    "print(results_class.to_latex())"
   ]
  },
  {
   "cell_type": "code",
   "execution_count": 32,
   "metadata": {},
   "outputs": [
    {
     "output_type": "stream",
     "name": "stdout",
     "text": [
      "\\begin{tabular}{llllrrrrr}\n\\toprule\n{} &          network &  n\\_bins &          estimator &  accuracy &  precision &  recall &     f1 &     time \\\\\n\\midrule\n0  &        network\\_1 &  3\\_bins &  BayesianEstimator &     0.834 &      0.323 &   0.327 &  0.317 &  191.747 \\\\\n1  &        network\\_1 &  3\\_bins &     MaxLLEstimator &     0.844 &      0.327 &   0.331 &  0.320 &  174.126 \\\\\n2  &        network\\_2 &  3\\_bins &  BayesianEstimator &     0.834 &      0.350 &   0.342 &  0.340 &   49.979 \\\\\n3  &        network\\_2 &  3\\_bins &     MaxLLEstimator &     0.831 &      0.347 &   0.341 &  0.338 &   47.546 \\\\\n4  &        network\\_3 &  3\\_bins &  BayesianEstimator &     0.834 &      0.350 &   0.342 &  0.340 &   21.111 \\\\\n5  &        network\\_3 &  3\\_bins &     MaxLLEstimator &     0.831 &      0.347 &   0.341 &  0.338 &   21.220 \\\\\n6  &        network\\_4 &  3\\_bins &  BayesianEstimator &     0.831 &      0.369 &   0.356 &  0.358 &   15.687 \\\\\n7  &        network\\_4 &  3\\_bins &     MaxLLEstimator &     0.827 &      0.365 &   0.355 &  0.357 &   14.923 \\\\\n8  &      naive\\_bayes &  3\\_bins &  BayesianEstimator &     0.841 &      0.400 &   0.383 &  0.389 &    5.558 \\\\\n9  &      naive\\_bayes &  3\\_bins &     MaxLLEstimator &     0.841 &      0.400 &   0.383 &  0.389 &    5.573 \\\\\n10 &          hcs\\_bic &  3\\_bins &  BayesianEstimator &     0.871 &      0.290 &   0.333 &  0.310 &    4.997 \\\\\n11 &          hcs\\_bic &  3\\_bins &     MaxLLEstimator &     0.871 &      0.290 &   0.333 &  0.310 &    4.833 \\\\\n12 &         hcs\\_bdeu &  3\\_bins &  BayesianEstimator &     0.871 &      0.290 &   0.333 &  0.310 &    5.933 \\\\\n13 &         hcs\\_bdeu &  3\\_bins &     MaxLLEstimator &     0.871 &      0.290 &   0.333 &  0.310 &    5.996 \\\\\n14 &           hcs\\_k2 &  3\\_bins &  BayesianEstimator &     0.868 &      0.428 &   0.363 &  0.367 &   15.558 \\\\\n15 &           hcs\\_k2 &  3\\_bins &     MaxLLEstimator &     0.868 &      0.428 &   0.363 &  0.367 &   15.425 \\\\\n16 &               pc &  3\\_bins &  BayesianEstimator &     0.871 &      0.290 &   0.333 &  0.310 &   13.467 \\\\\n17 &               pc &  3\\_bins &     MaxLLEstimator &     0.871 &      0.290 &   0.333 &  0.310 &   13.465 \\\\\n18 &    hcs\\_network\\_1 &  3\\_bins &  BayesianEstimator &     0.868 &      0.428 &   0.363 &  0.367 &   15.930 \\\\\n19 &    hcs\\_network\\_1 &  3\\_bins &     MaxLLEstimator &     0.868 &      0.428 &   0.363 &  0.367 &   15.413 \\\\\n20 &    hcs\\_network\\_2 &  3\\_bins &  BayesianEstimator &     0.868 &      0.428 &   0.363 &  0.367 &   12.403 \\\\\n21 &    hcs\\_network\\_2 &  3\\_bins &     MaxLLEstimator &     0.868 &      0.428 &   0.363 &  0.367 &   11.979 \\\\\n22 &    hcs\\_network\\_3 &  3\\_bins &  BayesianEstimator &     0.868 &      0.428 &   0.363 &  0.367 &   15.303 \\\\\n23 &    hcs\\_network\\_3 &  3\\_bins &     MaxLLEstimator &     0.868 &      0.428 &   0.363 &  0.367 &   15.245 \\\\\n24 &    hcs\\_network\\_4 &  3\\_bins &  BayesianEstimator &     0.868 &      0.428 &   0.363 &  0.367 &   15.484 \\\\\n25 &    hcs\\_network\\_4 &  3\\_bins &     MaxLLEstimator &     0.868 &      0.428 &   0.363 &  0.367 &   15.212 \\\\\n26 &  hcs\\_naive\\_bayes &  3\\_bins &  BayesianEstimator &     0.868 &      0.428 &   0.363 &  0.367 &   14.503 \\\\\n27 &  hcs\\_naive\\_bayes &  3\\_bins &     MaxLLEstimator &     0.868 &      0.428 &   0.363 &  0.367 &   14.962 \\\\\n28 &           hcs\\_pc &  3\\_bins &  BayesianEstimator &     0.871 &      0.290 &   0.333 &  0.310 &   11.642 \\\\\n29 &           hcs\\_pc &  3\\_bins &     MaxLLEstimator &     0.871 &      0.290 &   0.333 &  0.310 &   11.797 \\\\\n30 &        network\\_1 &  6\\_bins &  BayesianEstimator &     0.569 &      0.264 &   0.269 &  0.264 &  447.184 \\\\\n31 &        network\\_1 &  6\\_bins &     MaxLLEstimator &     0.580 &      0.268 &   0.273 &  0.267 &  425.664 \\\\\n32 &        network\\_2 &  6\\_bins &  BayesianEstimator &     0.566 &      0.275 &   0.269 &  0.266 &   65.262 \\\\\n33 &        network\\_2 &  6\\_bins &     MaxLLEstimator &     0.549 &      0.271 &   0.262 &  0.260 &   63.248 \\\\\n34 &        network\\_3 &  6\\_bins &  BayesianEstimator &     0.566 &      0.275 &   0.269 &  0.266 &   37.478 \\\\\n35 &        network\\_3 &  6\\_bins &     MaxLLEstimator &     0.549 &      0.271 &   0.262 &  0.260 &   36.568 \\\\\n36 &        network\\_4 &  6\\_bins &  BayesianEstimator &     0.617 &      0.249 &   0.281 &  0.264 &   26.774 \\\\\n37 &        network\\_4 &  6\\_bins &     MaxLLEstimator &     0.624 &      0.252 &   0.284 &  0.267 &   26.064 \\\\\n38 &      naive\\_bayes &  6\\_bins &  BayesianEstimator &     0.590 &      0.268 &   0.300 &  0.279 &    6.815 \\\\\n39 &      naive\\_bayes &  6\\_bins &     MaxLLEstimator &     0.590 &      0.268 &   0.300 &  0.279 &    6.684 \\\\\n40 &          hcs\\_bic &  6\\_bins &  BayesianEstimator &     0.647 &      0.262 &   0.298 &  0.277 &    5.206 \\\\\n41 &          hcs\\_bic &  6\\_bins &     MaxLLEstimator &     0.647 &      0.262 &   0.298 &  0.277 &    5.261 \\\\\n42 &         hcs\\_bdeu &  6\\_bins &  BayesianEstimator &     0.586 &      0.256 &   0.275 &  0.252 &    6.320 \\\\\n43 &         hcs\\_bdeu &  6\\_bins &     MaxLLEstimator &     0.586 &      0.256 &   0.275 &  0.252 &    6.299 \\\\\n44 &           hcs\\_k2 &  6\\_bins &  BayesianEstimator &     0.624 &      0.283 &   0.312 &  0.296 &   19.510 \\\\\n45 &           hcs\\_k2 &  6\\_bins &     MaxLLEstimator &     0.624 &      0.283 &   0.312 &  0.296 &   18.971 \\\\\n46 &               pc &  6\\_bins &  BayesianEstimator &     0.634 &      0.305 &   0.295 &  0.287 &   16.676 \\\\\n47 &               pc &  6\\_bins &     MaxLLEstimator &     0.634 &      0.305 &   0.295 &  0.287 &   16.256 \\\\\n48 &    hcs\\_network\\_1 &  6\\_bins &  BayesianEstimator &     0.624 &      0.283 &   0.312 &  0.296 &   19.396 \\\\\n49 &    hcs\\_network\\_1 &  6\\_bins &     MaxLLEstimator &     0.624 &      0.283 &   0.312 &  0.296 &   19.209 \\\\\n50 &    hcs\\_network\\_2 &  6\\_bins &  BayesianEstimator &     0.624 &      0.283 &   0.312 &  0.296 &   16.239 \\\\\n51 &    hcs\\_network\\_2 &  6\\_bins &     MaxLLEstimator &     0.624 &      0.283 &   0.312 &  0.296 &   16.058 \\\\\n52 &    hcs\\_network\\_3 &  6\\_bins &  BayesianEstimator &     0.624 &      0.283 &   0.312 &  0.296 &   19.424 \\\\\n53 &    hcs\\_network\\_3 &  6\\_bins &     MaxLLEstimator &     0.624 &      0.283 &   0.312 &  0.296 &   19.000 \\\\\n54 &    hcs\\_network\\_4 &  6\\_bins &  BayesianEstimator &     0.624 &      0.283 &   0.312 &  0.296 &   19.269 \\\\\n55 &    hcs\\_network\\_4 &  6\\_bins &     MaxLLEstimator &     0.624 &      0.283 &   0.312 &  0.296 &   18.906 \\\\\n56 &  hcs\\_naive\\_bayes &  6\\_bins &  BayesianEstimator &     0.624 &      0.283 &   0.312 &  0.296 &   19.448 \\\\\n57 &  hcs\\_naive\\_bayes &  6\\_bins &     MaxLLEstimator &     0.624 &      0.283 &   0.312 &  0.296 &   18.965 \\\\\n58 &           hcs\\_pc &  6\\_bins &  BayesianEstimator &     0.627 &      0.249 &   0.280 &  0.261 &   13.952 \\\\\n59 &           hcs\\_pc &  6\\_bins &     MaxLLEstimator &     0.620 &      0.250 &   0.278 &  0.261 &   13.720 \\\\\n60 &        network\\_1 &  9\\_bins &  BayesianEstimator &     0.495 &      0.258 &   0.253 &  0.253 &  463.321 \\\\\n61 &        network\\_1 &  9\\_bins &     MaxLLEstimator &     0.498 &      0.258 &   0.254 &  0.254 &  444.959 \\\\\n62 &        network\\_2 &  9\\_bins &  BayesianEstimator &     0.427 &      0.189 &   0.180 &  0.181 &   88.579 \\\\\n63 &        network\\_2 &  9\\_bins &     MaxLLEstimator &     0.420 &      0.212 &   0.203 &  0.204 &   85.153 \\\\\n64 &        network\\_3 &  9\\_bins &  BayesianEstimator &     0.427 &      0.189 &   0.180 &  0.181 &   59.079 \\\\\n65 &        network\\_3 &  9\\_bins &     MaxLLEstimator &     0.420 &      0.212 &   0.203 &  0.204 &   57.315 \\\\\n66 &        network\\_4 &  9\\_bins &  BayesianEstimator &     0.444 &      0.226 &   0.216 &  0.213 &   39.677 \\\\\n67 &        network\\_4 &  9\\_bins &     MaxLLEstimator &     0.444 &      0.229 &   0.216 &  0.213 &   38.208 \\\\\n68 &      naive\\_bayes &  9\\_bins &  BayesianEstimator &     0.441 &      0.228 &   0.232 &  0.218 &    8.149 \\\\\n69 &      naive\\_bayes &  9\\_bins &     MaxLLEstimator &     0.441 &      0.227 &   0.232 &  0.218 &    8.290 \\\\\n70 &          hcs\\_bic &  9\\_bins &  BayesianEstimator &     0.451 &      0.191 &   0.211 &  0.197 &    6.059 \\\\\n71 &          hcs\\_bic &  9\\_bins &     MaxLLEstimator &     0.451 &      0.191 &   0.211 &  0.197 &    6.095 \\\\\n72 &         hcs\\_bdeu &  9\\_bins &  BayesianEstimator &     0.407 &      0.180 &   0.175 &  0.152 &    7.228 \\\\\n73 &         hcs\\_bdeu &  9\\_bins &     MaxLLEstimator &     0.407 &      0.180 &   0.175 &  0.152 &    7.232 \\\\\n74 &           hcs\\_k2 &  9\\_bins &  BayesianEstimator &     0.481 &      0.293 &   0.270 &  0.275 &   28.956 \\\\\n75 &           hcs\\_k2 &  9\\_bins &     MaxLLEstimator &     0.485 &      0.294 &   0.271 &  0.276 &   28.235 \\\\\n76 &               pc &  9\\_bins &  BayesianEstimator &     0.492 &      0.267 &   0.246 &  0.238 &   26.557 \\\\\n77 &               pc &  9\\_bins &     MaxLLEstimator &     0.492 &      0.267 &   0.246 &  0.238 &   24.740 \\\\\n78 &    hcs\\_network\\_1 &  9\\_bins &  BayesianEstimator &     0.481 &      0.293 &   0.270 &  0.275 &   28.658 \\\\\n79 &    hcs\\_network\\_1 &  9\\_bins &     MaxLLEstimator &     0.485 &      0.294 &   0.271 &  0.276 &   28.033 \\\\\n80 &    hcs\\_network\\_2 &  9\\_bins &  BayesianEstimator &     0.481 &      0.293 &   0.270 &  0.275 &   25.451 \\\\\n81 &    hcs\\_network\\_2 &  9\\_bins &     MaxLLEstimator &     0.485 &      0.294 &   0.271 &  0.276 &   25.038 \\\\\n82 &    hcs\\_network\\_3 &  9\\_bins &  BayesianEstimator &     0.481 &      0.293 &   0.270 &  0.275 &   28.569 \\\\\n83 &    hcs\\_network\\_3 &  9\\_bins &     MaxLLEstimator &     0.485 &      0.294 &   0.271 &  0.276 &   28.232 \\\\\n84 &    hcs\\_network\\_4 &  9\\_bins &  BayesianEstimator &     0.481 &      0.293 &   0.270 &  0.275 &   28.894 \\\\\n85 &    hcs\\_network\\_4 &  9\\_bins &     MaxLLEstimator &     0.485 &      0.294 &   0.271 &  0.276 &   27.790 \\\\\n86 &  hcs\\_naive\\_bayes &  9\\_bins &  BayesianEstimator &     0.481 &      0.293 &   0.270 &  0.275 &   29.183 \\\\\n87 &  hcs\\_naive\\_bayes &  9\\_bins &     MaxLLEstimator &     0.485 &      0.294 &   0.271 &  0.276 &   27.687 \\\\\n88 &           hcs\\_pc &  9\\_bins &  BayesianEstimator &     0.464 &      0.198 &   0.225 &  0.210 &   18.670 \\\\\n89 &           hcs\\_pc &  9\\_bins &     MaxLLEstimator &     0.461 &      0.197 &   0.223 &  0.209 &   18.595 \\\\\n\\bottomrule\n\\end{tabular}\n\n"
     ]
    }
   ],
   "source": [
    "print(results_n_children.to_latex())"
   ]
  },
  {
   "cell_type": "code",
   "execution_count": 12,
   "metadata": {},
   "outputs": [
    {
     "output_type": "execute_result",
     "data": {
      "text/plain": [
       "['clf', 'n_bins', 'accuracy', 'precision', 'recall', 'f1', 'time']"
      ]
     },
     "metadata": {},
     "execution_count": 12
    }
   ],
   "source": [
    "list(results_bl_class.columns)"
   ]
  },
  {
   "cell_type": "code",
   "execution_count": 16,
   "metadata": {},
   "outputs": [
    {
     "output_type": "stream",
     "name": "stdout",
     "text": [
      "\\begin{tabular}{llllrrrrr}\n\\toprule\n{} &           clf &  n\\_bins & - &  accuracy &  precision &  recall &     f1 &   time \\\\\n\\midrule\n0 &    GaussianNB &  3\\_bins &   &     0.424 &      0.438 &   0.445 &  0.427 &  0.014 \\\\\n1 &  DecisionTree &  3\\_bins &   &     0.410 &      0.388 &   0.389 &  0.388 &  0.016 \\\\\n2 &    GaussianNB &  6\\_bins &   &     0.441 &      0.458 &   0.456 &  0.442 &  0.008 \\\\\n3 &  DecisionTree &  6\\_bins &   &     0.458 &      0.436 &   0.432 &  0.433 &  0.012 \\\\\n4 &    GaussianNB &  9\\_bins &   &     0.447 &      0.465 &   0.461 &  0.447 &  0.009 \\\\\n5 &  DecisionTree &  9\\_bins &   &     0.447 &      0.414 &   0.413 &  0.412 &  0.011 \\\\\n\\bottomrule\n\\end{tabular}\n\n"
     ]
    }
   ],
   "source": [
    "results_bl_class['-'] = ''\n",
    "\n",
    "cols_order = ['clf', 'n_bins', '-', 'accuracy', 'precision', 'recall', 'f1', 'time']\n",
    "results_bl_class = results_bl_class[cols_order]\n",
    "\n",
    "print(results_bl_class.to_latex())"
   ]
  },
  {
   "cell_type": "code",
   "execution_count": 17,
   "metadata": {},
   "outputs": [
    {
     "output_type": "stream",
     "name": "stdout",
     "text": [
      "\\begin{tabular}{llllrrrrr}\n\\toprule\n{} &           clf &  n\\_bins & - &  accuracy &  precision &  recall &     f1 &   time \\\\\n\\midrule\n0 &    GaussianNB &  3\\_bins &   &     0.817 &      0.377 &   0.374 &  0.375 &  0.010 \\\\\n1 &  DecisionTree &  3\\_bins &   &     0.803 &      0.369 &   0.361 &  0.365 &  0.012 \\\\\n2 &    GaussianNB &  6\\_bins &   &     0.580 &      0.361 &   0.328 &  0.286 &  0.009 \\\\\n3 &  DecisionTree &  6\\_bins &   &     0.525 &      0.308 &   0.299 &  0.298 &  0.011 \\\\\n4 &    GaussianNB &  9\\_bins &   &     0.339 &      0.181 &   0.255 &  0.144 &  0.011 \\\\\n5 &  DecisionTree &  9\\_bins &   &     0.386 &      0.236 &   0.254 &  0.241 &  0.011 \\\\\n\\bottomrule\n\\end{tabular}\n\n"
     ]
    }
   ],
   "source": [
    "results_bl_n_children['-'] = ''\n",
    "\n",
    "cols_order = ['clf', 'n_bins', '-', 'accuracy', 'precision', 'recall', 'f1', 'time']\n",
    "results_bl_n_children = results_bl_n_children[cols_order]\n",
    "\n",
    "print(results_bl_n_children.to_latex())"
   ]
  },
  {
   "source": [
    "## Other"
   ],
   "cell_type": "markdown",
   "metadata": {}
  }
 ]
}