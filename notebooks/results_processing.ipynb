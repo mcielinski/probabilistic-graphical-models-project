{
 "metadata": {
  "language_info": {
   "codemirror_mode": {
    "name": "ipython",
    "version": 3
   },
   "file_extension": ".py",
   "mimetype": "text/x-python",
   "name": "python",
   "nbconvert_exporter": "python",
   "pygments_lexer": "ipython3",
   "version": "3.8.2"
  },
  "orig_nbformat": 2,
  "kernelspec": {
   "name": "python382jvsc74a57bd0f0545359fd8874728fa15534fbfd9d83780463b5d27770e3043345b26761f8c1",
   "display_name": "Python 3.8.2 64-bit ('puma_venv': venv)"
  }
 },
 "nbformat": 4,
 "nbformat_minor": 2,
 "cells": [
  {
   "cell_type": "code",
   "execution_count": 1,
   "metadata": {},
   "outputs": [
    {
     "output_type": "execute_result",
     "data": {
      "text/plain": [
       "True"
      ]
     },
     "metadata": {},
     "execution_count": 1
    }
   ],
   "source": [
    "import sys\n",
    "sys.executable.split('/')[-3] == 'puma_venv'"
   ]
  },
  {
   "cell_type": "code",
   "execution_count": 2,
   "metadata": {},
   "outputs": [],
   "source": [
    "import os\n",
    "\n",
    "import pandas as pd\n",
    "\n",
    "# Managing Warnings \n",
    "import warnings\n",
    "warnings.filterwarnings('ignore')"
   ]
  },
  {
   "source": [
    "## Load results.csv"
   ],
   "cell_type": "markdown",
   "metadata": {}
  },
  {
   "cell_type": "code",
   "execution_count": 7,
   "metadata": {},
   "outputs": [],
   "source": [
    "out_dir = '../out'\n",
    "results_file_class = 'results_class.csv'\n",
    "results_file_n_children = 'results_n_children.csv'"
   ]
  },
  {
   "cell_type": "code",
   "execution_count": 18,
   "metadata": {},
   "outputs": [],
   "source": [
    "results_class = pd.read_csv(os.path.join(out_dir, results_file_class), index_col=0)\n",
    "results_n_children = pd.read_csv(os.path.join(out_dir, results_file_n_children), index_col=0)"
   ]
  },
  {
   "cell_type": "code",
   "execution_count": 17,
   "metadata": {},
   "outputs": [
    {
     "output_type": "execute_result",
     "data": {
      "text/plain": [
       "          network  n_bins          estimator  accuracy  precision  recall  \\\n",
       "69    naive_bayes  9_bins     MaxLLEstimator     0.478      0.473   0.476   \n",
       "39    naive_bayes  6_bins     MaxLLEstimator     0.478      0.473   0.476   \n",
       "38    naive_bayes  6_bins  BayesianEstimator     0.478      0.473   0.476   \n",
       "8     naive_bayes  3_bins  BayesianEstimator     0.478      0.473   0.476   \n",
       "9     naive_bayes  3_bins     MaxLLEstimator     0.478      0.473   0.476   \n",
       "68    naive_bayes  9_bins  BayesianEstimator     0.478      0.473   0.476   \n",
       "79  hcs_network_1  9_bins     MaxLLEstimator     0.458      0.442   0.447   \n",
       "48  hcs_network_1  6_bins  BayesianEstimator     0.458      0.442   0.447   \n",
       "49  hcs_network_1  6_bins     MaxLLEstimator     0.458      0.442   0.447   \n",
       "19  hcs_network_1  3_bins     MaxLLEstimator     0.458      0.442   0.447   \n",
       "\n",
       "       f1    time  \n",
       "69  0.469   4.004  \n",
       "39  0.469   3.757  \n",
       "38  0.469   4.177  \n",
       "8   0.469   4.298  \n",
       "9   0.469   4.165  \n",
       "68  0.469   3.948  \n",
       "79  0.444  10.635  \n",
       "48  0.444  10.702  \n",
       "49  0.444  10.056  \n",
       "19  0.444  11.037  "
      ],
      "text/html": "<div>\n<style scoped>\n    .dataframe tbody tr th:only-of-type {\n        vertical-align: middle;\n    }\n\n    .dataframe tbody tr th {\n        vertical-align: top;\n    }\n\n    .dataframe thead th {\n        text-align: right;\n    }\n</style>\n<table border=\"1\" class=\"dataframe\">\n  <thead>\n    <tr style=\"text-align: right;\">\n      <th></th>\n      <th>network</th>\n      <th>n_bins</th>\n      <th>estimator</th>\n      <th>accuracy</th>\n      <th>precision</th>\n      <th>recall</th>\n      <th>f1</th>\n      <th>time</th>\n    </tr>\n  </thead>\n  <tbody>\n    <tr>\n      <th>69</th>\n      <td>naive_bayes</td>\n      <td>9_bins</td>\n      <td>MaxLLEstimator</td>\n      <td>0.478</td>\n      <td>0.473</td>\n      <td>0.476</td>\n      <td>0.469</td>\n      <td>4.004</td>\n    </tr>\n    <tr>\n      <th>39</th>\n      <td>naive_bayes</td>\n      <td>6_bins</td>\n      <td>MaxLLEstimator</td>\n      <td>0.478</td>\n      <td>0.473</td>\n      <td>0.476</td>\n      <td>0.469</td>\n      <td>3.757</td>\n    </tr>\n    <tr>\n      <th>38</th>\n      <td>naive_bayes</td>\n      <td>6_bins</td>\n      <td>BayesianEstimator</td>\n      <td>0.478</td>\n      <td>0.473</td>\n      <td>0.476</td>\n      <td>0.469</td>\n      <td>4.177</td>\n    </tr>\n    <tr>\n      <th>8</th>\n      <td>naive_bayes</td>\n      <td>3_bins</td>\n      <td>BayesianEstimator</td>\n      <td>0.478</td>\n      <td>0.473</td>\n      <td>0.476</td>\n      <td>0.469</td>\n      <td>4.298</td>\n    </tr>\n    <tr>\n      <th>9</th>\n      <td>naive_bayes</td>\n      <td>3_bins</td>\n      <td>MaxLLEstimator</td>\n      <td>0.478</td>\n      <td>0.473</td>\n      <td>0.476</td>\n      <td>0.469</td>\n      <td>4.165</td>\n    </tr>\n    <tr>\n      <th>68</th>\n      <td>naive_bayes</td>\n      <td>9_bins</td>\n      <td>BayesianEstimator</td>\n      <td>0.478</td>\n      <td>0.473</td>\n      <td>0.476</td>\n      <td>0.469</td>\n      <td>3.948</td>\n    </tr>\n    <tr>\n      <th>79</th>\n      <td>hcs_network_1</td>\n      <td>9_bins</td>\n      <td>MaxLLEstimator</td>\n      <td>0.458</td>\n      <td>0.442</td>\n      <td>0.447</td>\n      <td>0.444</td>\n      <td>10.635</td>\n    </tr>\n    <tr>\n      <th>48</th>\n      <td>hcs_network_1</td>\n      <td>6_bins</td>\n      <td>BayesianEstimator</td>\n      <td>0.458</td>\n      <td>0.442</td>\n      <td>0.447</td>\n      <td>0.444</td>\n      <td>10.702</td>\n    </tr>\n    <tr>\n      <th>49</th>\n      <td>hcs_network_1</td>\n      <td>6_bins</td>\n      <td>MaxLLEstimator</td>\n      <td>0.458</td>\n      <td>0.442</td>\n      <td>0.447</td>\n      <td>0.444</td>\n      <td>10.056</td>\n    </tr>\n    <tr>\n      <th>19</th>\n      <td>hcs_network_1</td>\n      <td>3_bins</td>\n      <td>MaxLLEstimator</td>\n      <td>0.458</td>\n      <td>0.442</td>\n      <td>0.447</td>\n      <td>0.444</td>\n      <td>11.037</td>\n    </tr>\n  </tbody>\n</table>\n</div>"
     },
     "metadata": {},
     "execution_count": 17
    }
   ],
   "source": [
    "results_class.sort_values(['f1'], ascending=False).head(10)"
   ]
  },
  {
   "cell_type": "code",
   "execution_count": 19,
   "metadata": {},
   "outputs": [
    {
     "output_type": "execute_result",
     "data": {
      "text/plain": [
       "          network  n_bins          estimator  accuracy  precision  recall  \\\n",
       "68    naive_bayes  9_bins  BayesianEstimator     0.841      0.400   0.383   \n",
       "39    naive_bayes  6_bins     MaxLLEstimator     0.841      0.400   0.383   \n",
       "38    naive_bayes  6_bins  BayesianEstimator     0.841      0.400   0.383   \n",
       "69    naive_bayes  9_bins     MaxLLEstimator     0.841      0.400   0.383   \n",
       "8     naive_bayes  3_bins  BayesianEstimator     0.841      0.400   0.383   \n",
       "9     naive_bayes  3_bins     MaxLLEstimator     0.841      0.400   0.383   \n",
       "45         hcs_k2  6_bins     MaxLLEstimator     0.875      0.462   0.365   \n",
       "83  hcs_network_3  9_bins     MaxLLEstimator     0.875      0.462   0.365   \n",
       "53  hcs_network_3  6_bins     MaxLLEstimator     0.875      0.462   0.365   \n",
       "51  hcs_network_2  6_bins     MaxLLEstimator     0.875      0.462   0.365   \n",
       "\n",
       "       f1    time  \n",
       "68  0.389   7.221  \n",
       "39  0.389   5.862  \n",
       "38  0.389   5.741  \n",
       "69  0.389   8.317  \n",
       "8   0.389   6.602  \n",
       "9   0.389   6.639  \n",
       "45  0.371  24.225  \n",
       "83  0.371  19.716  \n",
       "53  0.371  18.910  \n",
       "51  0.371  17.536  "
      ],
      "text/html": "<div>\n<style scoped>\n    .dataframe tbody tr th:only-of-type {\n        vertical-align: middle;\n    }\n\n    .dataframe tbody tr th {\n        vertical-align: top;\n    }\n\n    .dataframe thead th {\n        text-align: right;\n    }\n</style>\n<table border=\"1\" class=\"dataframe\">\n  <thead>\n    <tr style=\"text-align: right;\">\n      <th></th>\n      <th>network</th>\n      <th>n_bins</th>\n      <th>estimator</th>\n      <th>accuracy</th>\n      <th>precision</th>\n      <th>recall</th>\n      <th>f1</th>\n      <th>time</th>\n    </tr>\n  </thead>\n  <tbody>\n    <tr>\n      <th>68</th>\n      <td>naive_bayes</td>\n      <td>9_bins</td>\n      <td>BayesianEstimator</td>\n      <td>0.841</td>\n      <td>0.400</td>\n      <td>0.383</td>\n      <td>0.389</td>\n      <td>7.221</td>\n    </tr>\n    <tr>\n      <th>39</th>\n      <td>naive_bayes</td>\n      <td>6_bins</td>\n      <td>MaxLLEstimator</td>\n      <td>0.841</td>\n      <td>0.400</td>\n      <td>0.383</td>\n      <td>0.389</td>\n      <td>5.862</td>\n    </tr>\n    <tr>\n      <th>38</th>\n      <td>naive_bayes</td>\n      <td>6_bins</td>\n      <td>BayesianEstimator</td>\n      <td>0.841</td>\n      <td>0.400</td>\n      <td>0.383</td>\n      <td>0.389</td>\n      <td>5.741</td>\n    </tr>\n    <tr>\n      <th>69</th>\n      <td>naive_bayes</td>\n      <td>9_bins</td>\n      <td>MaxLLEstimator</td>\n      <td>0.841</td>\n      <td>0.400</td>\n      <td>0.383</td>\n      <td>0.389</td>\n      <td>8.317</td>\n    </tr>\n    <tr>\n      <th>8</th>\n      <td>naive_bayes</td>\n      <td>3_bins</td>\n      <td>BayesianEstimator</td>\n      <td>0.841</td>\n      <td>0.400</td>\n      <td>0.383</td>\n      <td>0.389</td>\n      <td>6.602</td>\n    </tr>\n    <tr>\n      <th>9</th>\n      <td>naive_bayes</td>\n      <td>3_bins</td>\n      <td>MaxLLEstimator</td>\n      <td>0.841</td>\n      <td>0.400</td>\n      <td>0.383</td>\n      <td>0.389</td>\n      <td>6.639</td>\n    </tr>\n    <tr>\n      <th>45</th>\n      <td>hcs_k2</td>\n      <td>6_bins</td>\n      <td>MaxLLEstimator</td>\n      <td>0.875</td>\n      <td>0.462</td>\n      <td>0.365</td>\n      <td>0.371</td>\n      <td>24.225</td>\n    </tr>\n    <tr>\n      <th>83</th>\n      <td>hcs_network_3</td>\n      <td>9_bins</td>\n      <td>MaxLLEstimator</td>\n      <td>0.875</td>\n      <td>0.462</td>\n      <td>0.365</td>\n      <td>0.371</td>\n      <td>19.716</td>\n    </tr>\n    <tr>\n      <th>53</th>\n      <td>hcs_network_3</td>\n      <td>6_bins</td>\n      <td>MaxLLEstimator</td>\n      <td>0.875</td>\n      <td>0.462</td>\n      <td>0.365</td>\n      <td>0.371</td>\n      <td>18.910</td>\n    </tr>\n    <tr>\n      <th>51</th>\n      <td>hcs_network_2</td>\n      <td>6_bins</td>\n      <td>MaxLLEstimator</td>\n      <td>0.875</td>\n      <td>0.462</td>\n      <td>0.365</td>\n      <td>0.371</td>\n      <td>17.536</td>\n    </tr>\n  </tbody>\n</table>\n</div>"
     },
     "metadata": {},
     "execution_count": 19
    }
   ],
   "source": [
    "results_n_children.sort_values(['f1'], ascending=False).head(10)"
   ]
  },
  {
   "cell_type": "code",
   "execution_count": 13,
   "metadata": {},
   "outputs": [
    {
     "output_type": "stream",
     "name": "stdout",
     "text": [
      "\\begin{tabular}{llllrrrrr}\n\\toprule\n{} &          network &  n\\_bins &          estimator &  accuracy &  precision &  recall &     f1 &     time \\\\\n\\midrule\n0  &        network\\_1 &  3\\_bins &  BayesianEstimator &     0.451 &      0.422 &   0.407 &  0.392 &  122.984 \\\\\n1  &        network\\_1 &  3\\_bins &     MaxLLEstimator &     0.451 &      0.422 &   0.407 &  0.392 &  120.736 \\\\\n2  &        network\\_2 &  3\\_bins &  BayesianEstimator &     0.434 &      0.391 &   0.368 &  0.326 &   38.622 \\\\\n3  &        network\\_2 &  3\\_bins &     MaxLLEstimator &     0.434 &      0.391 &   0.368 &  0.326 &   37.337 \\\\\n4  &        network\\_3 &  3\\_bins &  BayesianEstimator &     0.434 &      0.391 &   0.368 &  0.326 &   17.282 \\\\\n5  &        network\\_3 &  3\\_bins &     MaxLLEstimator &     0.434 &      0.391 &   0.368 &  0.326 &   16.406 \\\\\n6  &        network\\_4 &  3\\_bins &  BayesianEstimator &     0.434 &      0.391 &   0.368 &  0.326 &   13.418 \\\\\n7  &        network\\_4 &  3\\_bins &     MaxLLEstimator &     0.434 &      0.391 &   0.368 &  0.326 &   12.637 \\\\\n8  &      naive\\_bayes &  3\\_bins &  BayesianEstimator &     0.478 &      0.473 &   0.476 &  0.469 &    4.298 \\\\\n9  &      naive\\_bayes &  3\\_bins &     MaxLLEstimator &     0.478 &      0.473 &   0.476 &  0.469 &    4.165 \\\\\n10 &          hcs\\_bic &  3\\_bins &  BayesianEstimator &     0.458 &      0.371 &   0.392 &  0.350 &    4.312 \\\\\n11 &          hcs\\_bic &  3\\_bins &     MaxLLEstimator &     0.458 &      0.371 &   0.392 &  0.350 &    4.602 \\\\\n12 &         hcs\\_bdeu &  3\\_bins &  BayesianEstimator &     0.458 &      0.371 &   0.392 &  0.350 &    5.738 \\\\\n13 &         hcs\\_bdeu &  3\\_bins &     MaxLLEstimator &     0.458 &      0.371 &   0.392 &  0.350 &    6.106 \\\\\n14 &           hcs\\_k2 &  3\\_bins &  BayesianEstimator &     0.468 &      0.464 &   0.433 &  0.435 &    9.420 \\\\\n15 &           hcs\\_k2 &  3\\_bins &     MaxLLEstimator &     0.468 &      0.464 &   0.433 &  0.435 &    9.393 \\\\\n16 &               pc &  3\\_bins &  BayesianEstimator &     0.444 &      0.282 &   0.433 &  0.341 &    7.177 \\\\\n17 &               pc &  3\\_bins &     MaxLLEstimator &     0.444 &      0.282 &   0.433 &  0.341 &    6.538 \\\\\n18 &    hcs\\_network\\_1 &  3\\_bins &  BayesianEstimator &     0.458 &      0.442 &   0.447 &  0.444 &   10.918 \\\\\n19 &    hcs\\_network\\_1 &  3\\_bins &     MaxLLEstimator &     0.458 &      0.442 &   0.447 &  0.444 &   11.037 \\\\\n20 &    hcs\\_network\\_2 &  3\\_bins &  BayesianEstimator &     0.468 &      0.464 &   0.433 &  0.435 &   11.410 \\\\\n21 &    hcs\\_network\\_2 &  3\\_bins &     MaxLLEstimator &     0.468 &      0.464 &   0.433 &  0.435 &   12.441 \\\\\n22 &    hcs\\_network\\_3 &  3\\_bins &  BayesianEstimator &     0.468 &      0.464 &   0.433 &  0.435 &   10.980 \\\\\n23 &    hcs\\_network\\_3 &  3\\_bins &     MaxLLEstimator &     0.468 &      0.464 &   0.433 &  0.435 &   10.827 \\\\\n24 &    hcs\\_network\\_4 &  3\\_bins &  BayesianEstimator &     0.468 &      0.464 &   0.433 &  0.435 &    9.714 \\\\\n25 &    hcs\\_network\\_4 &  3\\_bins &     MaxLLEstimator &     0.468 &      0.464 &   0.433 &  0.435 &    9.148 \\\\\n26 &  hcs\\_naive\\_bayes &  3\\_bins &  BayesianEstimator &     0.468 &      0.464 &   0.433 &  0.435 &   11.626 \\\\\n27 &  hcs\\_naive\\_bayes &  3\\_bins &     MaxLLEstimator &     0.468 &      0.464 &   0.433 &  0.435 &   11.549 \\\\\n28 &           hcs\\_pc &  3\\_bins &  BayesianEstimator &     0.444 &      0.290 &   0.376 &  0.327 &    3.646 \\\\\n29 &           hcs\\_pc &  3\\_bins &     MaxLLEstimator &     0.444 &      0.290 &   0.376 &  0.327 &    3.713 \\\\\n30 &        network\\_1 &  6\\_bins &  BayesianEstimator &     0.451 &      0.422 &   0.407 &  0.392 &  129.661 \\\\\n31 &        network\\_1 &  6\\_bins &     MaxLLEstimator &     0.451 &      0.422 &   0.407 &  0.392 &  117.801 \\\\\n32 &        network\\_2 &  6\\_bins &  BayesianEstimator &     0.434 &      0.391 &   0.368 &  0.326 &   38.839 \\\\\n33 &        network\\_2 &  6\\_bins &     MaxLLEstimator &     0.434 &      0.391 &   0.368 &  0.326 &   37.496 \\\\\n34 &        network\\_3 &  6\\_bins &  BayesianEstimator &     0.434 &      0.391 &   0.368 &  0.326 &   16.495 \\\\\n35 &        network\\_3 &  6\\_bins &     MaxLLEstimator &     0.434 &      0.391 &   0.368 &  0.326 &   15.935 \\\\\n36 &        network\\_4 &  6\\_bins &  BayesianEstimator &     0.434 &      0.391 &   0.368 &  0.326 &   13.965 \\\\\n37 &        network\\_4 &  6\\_bins &     MaxLLEstimator &     0.434 &      0.391 &   0.368 &  0.326 &   11.626 \\\\\n38 &      naive\\_bayes &  6\\_bins &  BayesianEstimator &     0.478 &      0.473 &   0.476 &  0.469 &    4.177 \\\\\n39 &      naive\\_bayes &  6\\_bins &     MaxLLEstimator &     0.478 &      0.473 &   0.476 &  0.469 &    3.757 \\\\\n40 &          hcs\\_bic &  6\\_bins &  BayesianEstimator &     0.458 &      0.371 &   0.392 &  0.350 &    3.991 \\\\\n41 &          hcs\\_bic &  6\\_bins &     MaxLLEstimator &     0.458 &      0.371 &   0.392 &  0.350 &    3.969 \\\\\n42 &         hcs\\_bdeu &  6\\_bins &  BayesianEstimator &     0.458 &      0.371 &   0.392 &  0.350 &    5.427 \\\\\n43 &         hcs\\_bdeu &  6\\_bins &     MaxLLEstimator &     0.458 &      0.371 &   0.392 &  0.350 &    5.446 \\\\\n44 &           hcs\\_k2 &  6\\_bins &  BayesianEstimator &     0.468 &      0.464 &   0.433 &  0.435 &    8.601 \\\\\n45 &           hcs\\_k2 &  6\\_bins &     MaxLLEstimator &     0.468 &      0.464 &   0.433 &  0.435 &    9.229 \\\\\n46 &               pc &  6\\_bins &  BayesianEstimator &     0.444 &      0.282 &   0.433 &  0.341 &    6.075 \\\\\n47 &               pc &  6\\_bins &     MaxLLEstimator &     0.444 &      0.282 &   0.433 &  0.341 &    5.991 \\\\\n48 &    hcs\\_network\\_1 &  6\\_bins &  BayesianEstimator &     0.458 &      0.442 &   0.447 &  0.444 &   10.702 \\\\\n49 &    hcs\\_network\\_1 &  6\\_bins &     MaxLLEstimator &     0.458 &      0.442 &   0.447 &  0.444 &   10.056 \\\\\n50 &    hcs\\_network\\_2 &  6\\_bins &  BayesianEstimator &     0.468 &      0.464 &   0.433 &  0.435 &   10.804 \\\\\n51 &    hcs\\_network\\_2 &  6\\_bins &     MaxLLEstimator &     0.468 &      0.464 &   0.433 &  0.435 &   10.698 \\\\\n52 &    hcs\\_network\\_3 &  6\\_bins &  BayesianEstimator &     0.468 &      0.464 &   0.433 &  0.435 &    9.654 \\\\\n53 &    hcs\\_network\\_3 &  6\\_bins &     MaxLLEstimator &     0.468 &      0.464 &   0.433 &  0.435 &    9.540 \\\\\n54 &    hcs\\_network\\_4 &  6\\_bins &  BayesianEstimator &     0.468 &      0.464 &   0.433 &  0.435 &    8.468 \\\\\n55 &    hcs\\_network\\_4 &  6\\_bins &     MaxLLEstimator &     0.468 &      0.464 &   0.433 &  0.435 &    8.513 \\\\\n56 &  hcs\\_naive\\_bayes &  6\\_bins &  BayesianEstimator &     0.468 &      0.464 &   0.433 &  0.435 &   10.902 \\\\\n57 &  hcs\\_naive\\_bayes &  6\\_bins &     MaxLLEstimator &     0.468 &      0.464 &   0.433 &  0.435 &   10.828 \\\\\n58 &           hcs\\_pc &  6\\_bins &  BayesianEstimator &     0.444 &      0.290 &   0.376 &  0.327 &    3.426 \\\\\n59 &           hcs\\_pc &  6\\_bins &     MaxLLEstimator &     0.444 &      0.290 &   0.376 &  0.327 &    3.393 \\\\\n60 &        network\\_1 &  9\\_bins &  BayesianEstimator &     0.451 &      0.422 &   0.407 &  0.392 &  116.177 \\\\\n61 &        network\\_1 &  9\\_bins &     MaxLLEstimator &     0.451 &      0.422 &   0.407 &  0.392 &  111.580 \\\\\n62 &        network\\_2 &  9\\_bins &  BayesianEstimator &     0.434 &      0.391 &   0.368 &  0.326 &   37.477 \\\\\n63 &        network\\_2 &  9\\_bins &     MaxLLEstimator &     0.434 &      0.391 &   0.368 &  0.326 &   36.132 \\\\\n64 &        network\\_3 &  9\\_bins &  BayesianEstimator &     0.434 &      0.391 &   0.368 &  0.326 &   15.906 \\\\\n65 &        network\\_3 &  9\\_bins &     MaxLLEstimator &     0.434 &      0.391 &   0.368 &  0.326 &   15.773 \\\\\n66 &        network\\_4 &  9\\_bins &  BayesianEstimator &     0.434 &      0.391 &   0.368 &  0.326 &   12.005 \\\\\n67 &        network\\_4 &  9\\_bins &     MaxLLEstimator &     0.434 &      0.391 &   0.368 &  0.326 &   11.888 \\\\\n68 &      naive\\_bayes &  9\\_bins &  BayesianEstimator &     0.478 &      0.473 &   0.476 &  0.469 &    3.948 \\\\\n69 &      naive\\_bayes &  9\\_bins &     MaxLLEstimator &     0.478 &      0.473 &   0.476 &  0.469 &    4.004 \\\\\n70 &          hcs\\_bic &  9\\_bins &  BayesianEstimator &     0.458 &      0.371 &   0.392 &  0.350 &    4.519 \\\\\n71 &          hcs\\_bic &  9\\_bins &     MaxLLEstimator &     0.458 &      0.371 &   0.392 &  0.350 &    4.230 \\\\\n72 &         hcs\\_bdeu &  9\\_bins &  BayesianEstimator &     0.458 &      0.371 &   0.392 &  0.350 &    5.761 \\\\\n73 &         hcs\\_bdeu &  9\\_bins &     MaxLLEstimator &     0.458 &      0.371 &   0.392 &  0.350 &    5.742 \\\\\n74 &           hcs\\_k2 &  9\\_bins &  BayesianEstimator &     0.468 &      0.464 &   0.433 &  0.435 &    9.044 \\\\\n75 &           hcs\\_k2 &  9\\_bins &     MaxLLEstimator &     0.468 &      0.464 &   0.433 &  0.435 &    8.989 \\\\\n76 &               pc &  9\\_bins &  BayesianEstimator &     0.444 &      0.282 &   0.433 &  0.341 &    6.284 \\\\\n77 &               pc &  9\\_bins &     MaxLLEstimator &     0.444 &      0.282 &   0.433 &  0.341 &    6.268 \\\\\n78 &    hcs\\_network\\_1 &  9\\_bins &  BayesianEstimator &     0.458 &      0.442 &   0.447 &  0.444 &   10.697 \\\\\n79 &    hcs\\_network\\_1 &  9\\_bins &     MaxLLEstimator &     0.458 &      0.442 &   0.447 &  0.444 &   10.635 \\\\\n80 &    hcs\\_network\\_2 &  9\\_bins &  BayesianEstimator &     0.468 &      0.464 &   0.433 &  0.435 &   11.438 \\\\\n81 &    hcs\\_network\\_2 &  9\\_bins &     MaxLLEstimator &     0.468 &      0.464 &   0.433 &  0.435 &   11.347 \\\\\n82 &    hcs\\_network\\_3 &  9\\_bins &  BayesianEstimator &     0.468 &      0.464 &   0.433 &  0.435 &   10.169 \\\\\n83 &    hcs\\_network\\_3 &  9\\_bins &     MaxLLEstimator &     0.468 &      0.464 &   0.433 &  0.435 &   10.147 \\\\\n84 &    hcs\\_network\\_4 &  9\\_bins &  BayesianEstimator &     0.468 &      0.464 &   0.433 &  0.435 &    9.033 \\\\\n85 &    hcs\\_network\\_4 &  9\\_bins &     MaxLLEstimator &     0.468 &      0.464 &   0.433 &  0.435 &    8.979 \\\\\n86 &  hcs\\_naive\\_bayes &  9\\_bins &  BayesianEstimator &     0.468 &      0.464 &   0.433 &  0.435 &   11.408 \\\\\n87 &  hcs\\_naive\\_bayes &  9\\_bins &     MaxLLEstimator &     0.468 &      0.464 &   0.433 &  0.435 &   11.337 \\\\\n88 &           hcs\\_pc &  9\\_bins &  BayesianEstimator &     0.444 &      0.290 &   0.376 &  0.327 &    3.610 \\\\\n89 &           hcs\\_pc &  9\\_bins &     MaxLLEstimator &     0.444 &      0.290 &   0.376 &  0.327 &    3.621 \\\\\n\\bottomrule\n\\end{tabular}\n\n"
     ]
    }
   ],
   "source": [
    "print(results_class.to_latex())"
   ]
  },
  {
   "cell_type": "code",
   "execution_count": 14,
   "metadata": {},
   "outputs": [
    {
     "output_type": "stream",
     "name": "stdout",
     "text": [
      "\\begin{tabular}{llllrrrrr}\n\\toprule\n{} &          network &  n\\_bins &          estimator &  accuracy &  precision &  recall &     f1 &     time \\\\\n\\midrule\n0  &        network\\_1 &  3\\_bins &  BayesianEstimator &     0.834 &      0.323 &   0.327 &  0.317 &  163.835 \\\\\n1  &        network\\_1 &  3\\_bins &     MaxLLEstimator &     0.844 &      0.327 &   0.331 &  0.320 &  157.502 \\\\\n2  &        network\\_2 &  3\\_bins &  BayesianEstimator &     0.834 &      0.350 &   0.342 &  0.340 &   55.216 \\\\\n3  &        network\\_2 &  3\\_bins &     MaxLLEstimator &     0.831 &      0.347 &   0.341 &  0.338 &   50.628 \\\\\n4  &        network\\_3 &  3\\_bins &  BayesianEstimator &     0.834 &      0.350 &   0.342 &  0.340 &   24.398 \\\\\n5  &        network\\_3 &  3\\_bins &     MaxLLEstimator &     0.831 &      0.347 &   0.341 &  0.338 &   22.419 \\\\\n6  &        network\\_4 &  3\\_bins &  BayesianEstimator &     0.831 &      0.369 &   0.356 &  0.358 &   17.640 \\\\\n7  &        network\\_4 &  3\\_bins &     MaxLLEstimator &     0.827 &      0.365 &   0.355 &  0.357 &   17.591 \\\\\n8  &      naive\\_bayes &  3\\_bins &  BayesianEstimator &     0.841 &      0.400 &   0.383 &  0.389 &    6.602 \\\\\n9  &      naive\\_bayes &  3\\_bins &     MaxLLEstimator &     0.841 &      0.400 &   0.383 &  0.389 &    6.639 \\\\\n10 &          hcs\\_bic &  3\\_bins &  BayesianEstimator &     0.858 &      0.397 &   0.359 &  0.361 &    6.737 \\\\\n11 &          hcs\\_bic &  3\\_bins &     MaxLLEstimator &     0.858 &      0.397 &   0.359 &  0.361 &    6.690 \\\\\n12 &         hcs\\_bdeu &  3\\_bins &  BayesianEstimator &     0.871 &      0.290 &   0.333 &  0.310 &    9.010 \\\\\n13 &         hcs\\_bdeu &  3\\_bins &     MaxLLEstimator &     0.871 &      0.290 &   0.333 &  0.310 &    9.213 \\\\\n14 &           hcs\\_k2 &  3\\_bins &  BayesianEstimator &     0.864 &      0.416 &   0.362 &  0.365 &   17.020 \\\\\n15 &           hcs\\_k2 &  3\\_bins &     MaxLLEstimator &     0.875 &      0.462 &   0.365 &  0.371 &   17.894 \\\\\n16 &               pc &  3\\_bins &  BayesianEstimator &     0.871 &      0.290 &   0.333 &  0.310 &   13.444 \\\\\n17 &               pc &  3\\_bins &     MaxLLEstimator &     0.871 &      0.290 &   0.333 &  0.310 &   13.356 \\\\\n18 &    hcs\\_network\\_1 &  3\\_bins &  BayesianEstimator &     0.871 &      0.290 &   0.333 &  0.310 &   18.502 \\\\\n19 &    hcs\\_network\\_1 &  3\\_bins &     MaxLLEstimator &     0.871 &      0.290 &   0.333 &  0.310 &   18.122 \\\\\n20 &    hcs\\_network\\_2 &  3\\_bins &  BayesianEstimator &     0.864 &      0.416 &   0.362 &  0.365 &   17.664 \\\\\n21 &    hcs\\_network\\_2 &  3\\_bins &     MaxLLEstimator &     0.875 &      0.462 &   0.365 &  0.371 &   18.134 \\\\\n22 &    hcs\\_network\\_3 &  3\\_bins &  BayesianEstimator &     0.864 &      0.416 &   0.362 &  0.365 &   18.032 \\\\\n23 &    hcs\\_network\\_3 &  3\\_bins &     MaxLLEstimator &     0.875 &      0.462 &   0.365 &  0.371 &   17.150 \\\\\n24 &    hcs\\_network\\_4 &  3\\_bins &  BayesianEstimator &     0.871 &      0.290 &   0.333 &  0.310 &   18.179 \\\\\n25 &    hcs\\_network\\_4 &  3\\_bins &     MaxLLEstimator &     0.871 &      0.290 &   0.333 &  0.310 &   18.140 \\\\\n26 &  hcs\\_naive\\_bayes &  3\\_bins &  BayesianEstimator &     0.864 &      0.416 &   0.362 &  0.365 &   17.920 \\\\\n27 &  hcs\\_naive\\_bayes &  3\\_bins &     MaxLLEstimator &     0.875 &      0.462 &   0.365 &  0.371 &   16.703 \\\\\n28 &           hcs\\_pc &  3\\_bins &  BayesianEstimator &     0.871 &      0.290 &   0.333 &  0.310 &   12.348 \\\\\n29 &           hcs\\_pc &  3\\_bins &     MaxLLEstimator &     0.871 &      0.290 &   0.333 &  0.310 &   12.165 \\\\\n30 &        network\\_1 &  6\\_bins &  BayesianEstimator &     0.834 &      0.323 &   0.327 &  0.317 &  167.800 \\\\\n31 &        network\\_1 &  6\\_bins &     MaxLLEstimator &     0.844 &      0.327 &   0.331 &  0.320 &  157.936 \\\\\n32 &        network\\_2 &  6\\_bins &  BayesianEstimator &     0.834 &      0.350 &   0.342 &  0.340 &   51.019 \\\\\n33 &        network\\_2 &  6\\_bins &     MaxLLEstimator &     0.831 &      0.347 &   0.341 &  0.338 &   50.238 \\\\\n34 &        network\\_3 &  6\\_bins &  BayesianEstimator &     0.834 &      0.350 &   0.342 &  0.340 &   22.697 \\\\\n35 &        network\\_3 &  6\\_bins &     MaxLLEstimator &     0.831 &      0.347 &   0.341 &  0.338 &   23.062 \\\\\n36 &        network\\_4 &  6\\_bins &  BayesianEstimator &     0.831 &      0.369 &   0.356 &  0.358 &   17.590 \\\\\n37 &        network\\_4 &  6\\_bins &     MaxLLEstimator &     0.827 &      0.365 &   0.355 &  0.357 &   18.754 \\\\\n38 &      naive\\_bayes &  6\\_bins &  BayesianEstimator &     0.841 &      0.400 &   0.383 &  0.389 &    5.741 \\\\\n39 &      naive\\_bayes &  6\\_bins &     MaxLLEstimator &     0.841 &      0.400 &   0.383 &  0.389 &    5.862 \\\\\n40 &          hcs\\_bic &  6\\_bins &  BayesianEstimator &     0.858 &      0.397 &   0.359 &  0.361 &    6.717 \\\\\n41 &          hcs\\_bic &  6\\_bins &     MaxLLEstimator &     0.858 &      0.397 &   0.359 &  0.361 &    6.426 \\\\\n42 &         hcs\\_bdeu &  6\\_bins &  BayesianEstimator &     0.871 &      0.290 &   0.333 &  0.310 &    9.797 \\\\\n43 &         hcs\\_bdeu &  6\\_bins &     MaxLLEstimator &     0.871 &      0.290 &   0.333 &  0.310 &    8.782 \\\\\n44 &           hcs\\_k2 &  6\\_bins &  BayesianEstimator &     0.864 &      0.416 &   0.362 &  0.365 &   17.930 \\\\\n45 &           hcs\\_k2 &  6\\_bins &     MaxLLEstimator &     0.875 &      0.462 &   0.365 &  0.371 &   24.225 \\\\\n46 &               pc &  6\\_bins &  BayesianEstimator &     0.871 &      0.290 &   0.333 &  0.310 &   16.823 \\\\\n47 &               pc &  6\\_bins &     MaxLLEstimator &     0.871 &      0.290 &   0.333 &  0.310 &   18.402 \\\\\n48 &    hcs\\_network\\_1 &  6\\_bins &  BayesianEstimator &     0.871 &      0.290 &   0.333 &  0.310 &   20.048 \\\\\n49 &    hcs\\_network\\_1 &  6\\_bins &     MaxLLEstimator &     0.871 &      0.290 &   0.333 &  0.310 &   22.686 \\\\\n50 &    hcs\\_network\\_2 &  6\\_bins &  BayesianEstimator &     0.864 &      0.416 &   0.362 &  0.365 &   18.527 \\\\\n51 &    hcs\\_network\\_2 &  6\\_bins &     MaxLLEstimator &     0.875 &      0.462 &   0.365 &  0.371 &   17.536 \\\\\n52 &    hcs\\_network\\_3 &  6\\_bins &  BayesianEstimator &     0.864 &      0.416 &   0.362 &  0.365 &   19.580 \\\\\n53 &    hcs\\_network\\_3 &  6\\_bins &     MaxLLEstimator &     0.875 &      0.462 &   0.365 &  0.371 &   18.910 \\\\\n54 &    hcs\\_network\\_4 &  6\\_bins &  BayesianEstimator &     0.871 &      0.290 &   0.333 &  0.310 &   19.334 \\\\\n55 &    hcs\\_network\\_4 &  6\\_bins &     MaxLLEstimator &     0.871 &      0.290 &   0.333 &  0.310 &   19.563 \\\\\n56 &  hcs\\_naive\\_bayes &  6\\_bins &  BayesianEstimator &     0.864 &      0.416 &   0.362 &  0.365 &   18.319 \\\\\n57 &  hcs\\_naive\\_bayes &  6\\_bins &     MaxLLEstimator &     0.875 &      0.462 &   0.365 &  0.371 &   18.355 \\\\\n58 &           hcs\\_pc &  6\\_bins &  BayesianEstimator &     0.871 &      0.290 &   0.333 &  0.310 &   13.586 \\\\\n59 &           hcs\\_pc &  6\\_bins &     MaxLLEstimator &     0.871 &      0.290 &   0.333 &  0.310 &   11.753 \\\\\n60 &        network\\_1 &  9\\_bins &  BayesianEstimator &     0.834 &      0.323 &   0.327 &  0.317 &  193.523 \\\\\n61 &        network\\_1 &  9\\_bins &     MaxLLEstimator &     0.844 &      0.327 &   0.331 &  0.320 &  191.427 \\\\\n62 &        network\\_2 &  9\\_bins &  BayesianEstimator &     0.834 &      0.350 &   0.342 &  0.340 &   62.010 \\\\\n63 &        network\\_2 &  9\\_bins &     MaxLLEstimator &     0.831 &      0.347 &   0.341 &  0.338 &   60.512 \\\\\n64 &        network\\_3 &  9\\_bins &  BayesianEstimator &     0.834 &      0.350 &   0.342 &  0.340 &   26.987 \\\\\n65 &        network\\_3 &  9\\_bins &     MaxLLEstimator &     0.831 &      0.347 &   0.341 &  0.338 &   31.120 \\\\\n66 &        network\\_4 &  9\\_bins &  BayesianEstimator &     0.831 &      0.369 &   0.356 &  0.358 &   24.121 \\\\\n67 &        network\\_4 &  9\\_bins &     MaxLLEstimator &     0.827 &      0.365 &   0.355 &  0.357 &   23.361 \\\\\n68 &      naive\\_bayes &  9\\_bins &  BayesianEstimator &     0.841 &      0.400 &   0.383 &  0.389 &    7.221 \\\\\n69 &      naive\\_bayes &  9\\_bins &     MaxLLEstimator &     0.841 &      0.400 &   0.383 &  0.389 &    8.317 \\\\\n70 &          hcs\\_bic &  9\\_bins &  BayesianEstimator &     0.858 &      0.397 &   0.359 &  0.361 &    7.286 \\\\\n71 &          hcs\\_bic &  9\\_bins &     MaxLLEstimator &     0.858 &      0.397 &   0.359 &  0.361 &    8.824 \\\\\n72 &         hcs\\_bdeu &  9\\_bins &  BayesianEstimator &     0.871 &      0.290 &   0.333 &  0.310 &   10.429 \\\\\n73 &         hcs\\_bdeu &  9\\_bins &     MaxLLEstimator &     0.871 &      0.290 &   0.333 &  0.310 &   10.007 \\\\\n74 &           hcs\\_k2 &  9\\_bins &  BayesianEstimator &     0.864 &      0.416 &   0.362 &  0.365 &   19.186 \\\\\n75 &           hcs\\_k2 &  9\\_bins &     MaxLLEstimator &     0.875 &      0.462 &   0.365 &  0.371 &   19.624 \\\\\n76 &               pc &  9\\_bins &  BayesianEstimator &     0.871 &      0.290 &   0.333 &  0.310 &   16.566 \\\\\n77 &               pc &  9\\_bins &     MaxLLEstimator &     0.871 &      0.290 &   0.333 &  0.310 &   16.975 \\\\\n78 &    hcs\\_network\\_1 &  9\\_bins &  BayesianEstimator &     0.871 &      0.290 &   0.333 &  0.310 &   21.502 \\\\\n79 &    hcs\\_network\\_1 &  9\\_bins &     MaxLLEstimator &     0.871 &      0.290 &   0.333 &  0.310 &   18.174 \\\\\n80 &    hcs\\_network\\_2 &  9\\_bins &  BayesianEstimator &     0.864 &      0.416 &   0.362 &  0.365 &   20.913 \\\\\n81 &    hcs\\_network\\_2 &  9\\_bins &     MaxLLEstimator &     0.875 &      0.462 &   0.365 &  0.371 &   19.716 \\\\\n82 &    hcs\\_network\\_3 &  9\\_bins &  BayesianEstimator &     0.864 &      0.416 &   0.362 &  0.365 &   20.731 \\\\\n83 &    hcs\\_network\\_3 &  9\\_bins &     MaxLLEstimator &     0.875 &      0.462 &   0.365 &  0.371 &   19.716 \\\\\n84 &    hcs\\_network\\_4 &  9\\_bins &  BayesianEstimator &     0.871 &      0.290 &   0.333 &  0.310 &   21.312 \\\\\n85 &    hcs\\_network\\_4 &  9\\_bins &     MaxLLEstimator &     0.871 &      0.290 &   0.333 &  0.310 &   21.202 \\\\\n86 &  hcs\\_naive\\_bayes &  9\\_bins &  BayesianEstimator &     0.864 &      0.416 &   0.362 &  0.365 &   19.388 \\\\\n87 &  hcs\\_naive\\_bayes &  9\\_bins &     MaxLLEstimator &     0.875 &      0.462 &   0.365 &  0.371 &   19.760 \\\\\n88 &           hcs\\_pc &  9\\_bins &  BayesianEstimator &     0.871 &      0.290 &   0.333 &  0.310 &   14.085 \\\\\n89 &           hcs\\_pc &  9\\_bins &     MaxLLEstimator &     0.871 &      0.290 &   0.333 &  0.310 &   13.714 \\\\\n\\bottomrule\n\\end{tabular}\n\n"
     ]
    }
   ],
   "source": [
    "print(results_n_children.to_latex())"
   ]
  },
  {
   "cell_type": "code",
   "execution_count": null,
   "metadata": {},
   "outputs": [],
   "source": []
  }
 ]
}